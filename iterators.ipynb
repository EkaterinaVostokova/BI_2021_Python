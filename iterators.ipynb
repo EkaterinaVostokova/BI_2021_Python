{
 "cells": [
  {
   "cell_type": "raw",
   "metadata": {},
   "source": [
    "# 1. Сделайте генератор, который принимает на вход путь к фаста файлу и выдаёт по очереди пары id последовательности (то, что после \">\") и последовательности. (5 баллов)"
   ]
  },
  {
   "cell_type": "code",
   "execution_count": 20,
   "metadata": {},
   "outputs": [
    {
     "name": "stdout",
     "output_type": "stream",
     "text": [
      "<class 'generator'>\n",
      ">cytochrome_51_mycobacterium MSAVALPRVSGGHDEHGHLEEFRTDPIGLMQRVRDECGDVGTFQLAGKQV\n",
      ">WP_017364651.1 cytochrome P450 [Methylococcus capsulatus] MSHPPSNTPPVKPGGLPLLGHILEFGKNPHAFLMALRHEFGDVAEFRMFH\n",
      ">WP_101893575.1 cytochrome P450 [Ketobacter alkanivorans] MADAQALNNNHLARKEPPRLKGGLPLLGHMIPFARNPFLFMKRVSDQLGE\n",
      ">MAA59087.1 cytochrome P450 [Pseudomonadales bacterium] MRGGLPLLGHIIPFARNPFLFMKRVSDTLGEIAQFRIFNQRMILLTGDDA\n",
      ">RLT88181.1 cytochrome P450 [Ketobacter sp. GenoA1] MRGGLPLLGHIIPFARNPFLFMKRVSDTLGEIAQFRIFNQRMILLTGDDA\n",
      ">RLT93065.1 cytochrome P450 [Ketobacter sp.] MADVEALNNNHLAGKEPPALRGGLPLLGHMVPFARNPFLFMKRVSDELGE\n",
      ">MBI26445.1 cytochrome P450 [Pseudomonadales bacterium] MRGGLPLLGHIIPFARNPFLFMKRVSDTLGEIAQFRIFNQRMILLTGDDA\n",
      ">RIZ67678.1 cytochrome P450 [Methylococcales bacterium] MKTANTNKTVSSGQEPPKMPGVLPLLGHMLQFGKNPFSYMMMLRNTLGEI\n",
      ">PKM37259.1 cytochrome P450 [Gammaproteobacteria bacterium HGW-Gammaproteobacteria-10] MTTINSEKPTSSTKTPPKMPGALPLIGHMLEFGKNPFNYMMKLRNTLGEI\n",
      ">WP_017842316.1 cytochrome P450 [Methylotuvimicrobium buryatense] MTTINSEKPTSSDKAPPKMPGALPLIGHMLEFGKNPFNYMMKLRNTLGEI\n",
      ">WP_014147269.1 cytochrome P450 [Methylotuvimicrobium alcaliphilum] MNTINSEKPASSDKAPPKMPGALPLIGHMLDFGKNPFNYMMKLRNTLGEI\n",
      ">MBE0435882.1 cytochrome P450 [Methylomicrobium sp.] MNTINSKKPASSTKAPPKMPGALPLIGHMLDFGKNPFNYMMKLRNTLGEI\n",
      ">WP_162078107.1 cytochrome P450 [Sinimarinibacterium sp. NLF-5-8] MSTLVNPSTAAIPHQRSPIPWVGHMFGFARNPYQFVARVAAEKGEIAAFT\n",
      ">WP_026611435.1 cytochrome P450 [Methylocaldum szegediense] MGERLLKEPPSLSGALPLVGHLFEFRKNPHAFMMRLREQLGNVAEFKLFH\n",
      ">NPU90427.1 cytochrome P450 [Gammaproteobacteria bacterium] MSAVQPVPTSSVPLQDPPRLKGGLPLLGHMLPFARNPFQFMKKVSDSVGE\n",
      ">TAL50100.1 cytochrome P450 [Methylovulum sp.] MTTTNTENPVSPHKEPPKMPGALLLLGHMLEFGRNPFLYMMTLRNTLGEI\n",
      ">WP_027157846.1 cytochrome P450 [Methylobacter luteus] MTTTNIEKTVSPGKEPPTMSYALPLLGHMLEFGKNPFEYMMKLRNTLGEI\n",
      ">RIZ65636.1 cytochrome P450 [Methylococcales bacterium] MTETNTIKTKTAEQAPPKMPGALPLIGHMLDFGKNPFDYMMRLRNTLGEI\n",
      ">OYV20597.1 cytochrome P450, family 51 (sterol 14-demethylase) [Methylococcaceae bacterium NSM2-1] MTTTNTEKTVSPGKEPPKMPGALPLLGHMIEFGKNPFDYMMRLRKTLGEI\n",
      ">WP_080524201.1 cytochrome P450 [Methyloprofundus sedimenti] MTEQPSPTNKEPEKMPGGLPLIGHMLKFGKNPFDYMTLLRSKLGEIGEFR\n",
      ">WP_020160919.1 cytochrome P450 [Methylobacter marinus] MTTTNTEKAVSSGKAPPRMPGALPLLGHMLEFGKNPFDYMMRLRNQLGEI\n",
      ">TAK64799.1 cytochrome P450 [Methylobacter sp.] MVAINTQKNVLSGKEPPKMPGALPLLGHMLEFGKNPFDYMMRLRNKLGEI\n",
      ">WP_024297373.1 cytochrome P450 [Methylomicrobium lacus] MNTTTTEKNVSPSKAPPKMPGALPLLGHMLAFGKNPFDYMMTLRKTLGEI\n",
      ">WP_066979343.1 cytochrome P450 [Methylomonas lenta] MTTTNTEKTISPDQQPPKMPGALPLLGHMLEFGKNPFDYMMRLRNTLGEI\n",
      ">WP_107941425.1 cytochrome P450 [Stenotrophobium rhamnosiphilum] MNAPTTIKPQQGSAPPKAKGGLPWIGQMFNFAANPYKFMEKVATTTGEIA\n",
      ">WP_125216882.1 cytochrome P450 [Methylomicrobium sp. wino1] MNTINSEKSASSDKAPPKMPGALPLIGHMLDFGKNPFNYMMKLRNTLGEI\n",
      ">PPD50302.1 cytochrome P450 [Methylobacter sp.] MTPANNDNAVSTFKEPPKMPSALPFIGHMLEFGKNPFEYMVKLRNTLGEI\n",
      ">CBL44693.1 Cytochrome P450 51 [gamma proteobacterium HdN1] MTAAQPLPAPEPDLLAPPKLKGGVPLLGHIFPFARNPFQFMKRVSDELGE\n",
      ">WP_200882611.1 cytochrome P450 [Methylobacter sp. BBA5.1] MPGALPLLGHMLEFGKNPFDYMMRLRNQLGEIGEFRMFHQKMVLMTGPEA\n",
      ">WP_216998984.1 cytochrome P450 [Aquihabitans sp. G128] MTITDEPQTSPFPDPPKVSGDHGGTGHLEELRTDPIGLMQRVRDECGDVG\n",
      ">WP_194970442.1 cytochrome P450 [Methylobacter sp. BlB1] MNKTNTEKTVSPGKVPPKMPGALPLLGHMLAFGKNPFDYMMSLRKTLGEI\n",
      ">MBW2289166.1 cytochrome P450 [Deltaproteobacteria bacterium] MTTKSDAGAANSNHPGGQAPPRLSQEEPDAGHLEEFRSAPIDLFWRVRNE\n",
      ">WP_221897480.1 cytochrome P450 [Bathymodiolus japonicus methanotrophic gill symbiont] MTEQQSSTSKQPPKMPGALPLIGNMLKFGKNPYEYMNMLRSKLGEIGEFR\n",
      ">WP_159658837.1 cytochrome P450 [Methylicorpusculum oleiharenae] MTTTNTEKPDSTGKVPPKMPRSLPLLGNMLEFGKNPFSYMMELRKTLGEI\n",
      ">MBK9298049.1 cytochrome P450 [Candidatus Microthrix sp.] MTSQSTLNEPPRVSGGDEPNGHLEELRRDPIGLMQRVRDECGDVGEFTLA\n",
      ">MBP7594865.1 cytochrome P450 [Candidatus Microthrix sp.] MTSQSTLNEPPRVSGGDEPNGHLEELRRDPIGLMQRVRDECGDVGEFTLA\n",
      ">MBE0470039.1 cytochrome P450 [Methyloprofundus sp.] MTTQQSRPTKTVPKMPGGLPLIGHMIAFGKNPFDYMVSLRAKLGEIGEFR\n",
      ">MCC6522289.1 cytochrome P450 [Polyangiaceae bacterium] MQLQSLVERALRRATPSTPAGLREPPTLSGGLPLVGHTLEFVRATIELLS\n",
      ">WP_169791613.1 cytochrome P450 [Sandaracinus amylolyticus] MQLRSLVDETVRRATRRRDEAPSGLLPAPRLSGGLPVVGHSVEFVRATIE\n",
      ">MBX7193440.1 cytochrome P450 [Sandaracinaceae bacterium] MDLFDVVSRPRGEKKKKPIPAGLKEAPRLSGALPVVGHTVEFVRGTIELL\n",
      ">MBI4950645.1 cytochrome P450 [Myxococcales bacterium] MQLQSLVERALRRATPSTPAGLREPPTLSGGLPLVGHTLEFVRSAIELLS\n",
      ">NRA01019.1 cytochrome P450 [Myxococcales bacterium] MSTAFESKSGAASGAAHTGGRAPPELSGAWPLLGHLLELRRRPIELFQRV\n",
      ">MCB9592754.1 cytochrome P450 [Sandaracinaceae bacterium] MLRRNDPIPAGLRAPPLLPGGYPLVGHTVEFVRNTIGLLERARRELGEVA\n",
      ">WP_077731476.1 cytochrome P450 [Methylocaldum sp. 14B] MAKGQLKEPPKLSGAFPLAGHIFSFGKNPHAFMMRLRRQLGDVAEFKLFH\n",
      ">WP_085211366.1 cytochrome P450 [Methylomagnum ishizawai] MSQRPPKAPPRLPGALPLLGHIPDFGKNPHDFMMRLRAKLGDIAEFQMFH\n",
      ">MVF21046.1 cytochrome P450 [Methylocaldum sp. BRCS4] MAKGQLKEPPKLSGAFPLAGHIFSFGKNPHAFMMRLRRQLGDVAEFKLFH\n",
      ">WP_156966400.1 cytochrome P450 [Algiphilus aromaticivorans] MATHTMTQPRGGGPNPPSHPGGLPWAGHLISFVRNPFHFVSDVARRGGEI\n",
      ">WP_146723376.1 cytochrome P450 [Minicystis rosea] MNLEPIVETLLRRKKAPPAGLREPPVLSGALPVVGHTVEFVRSTIGLLSR\n",
      ">MCB9614936.1 cytochrome P450 [Sandaracinus sp.] MGVTSLLESVQKRPRKRGSAVPRLSGALPVVGHMVEFQKNPFELLQRAWR\n",
      ">WP_119629917.1 cytochrome P450 [Methylocaldum marinum] MGERQLKEPPKLSGALPLAGHIFSFGKNPHAFMMRLRRQLGDVAEFRLFH\n",
      ">WP_022958595.1 cytochrome P450 [Spongiibacter tropicus] MTAKANSEHLGSVEPPRAGGGLPLLGHMIDFVRNPFNFARKIAGNYGEIV\n",
      ">WP_153250762.1 cytochrome P450 [Candidatus Methylospira mobilis] MNNQDALTPPKLSGSLPLLGHILDFGKNPHDFMMRLRARLGDVAEFKMFH\n",
      ">MBL4689442.1 cytochrome P450 [Nannocystaceae bacterium] MPTAQAVRDSKASKPTFAEAKHPPQLSGGLPWVGHTMGFLRDLTGLLTKA\n",
      ">MBK8940543.1 cytochrome P450 [Polyangiaceae bacterium] MELQPLVQKVFPKKTPTPAGLRTPPRLSGGLPVVGHTVDFVRDTIGLLTR\n",
      ">WP_119777160.1 cytochrome P450 [Oleomonas sp. K1W22B-8] MSIQASVQGGGAAPPAAKGGFPWFGHMLSFASNPFKFVEKVARQGGEITS\n",
      ">WP_109920848.1 cytochrome P450 [Zavarzinia compransoris] MSVQASARAGGGDEPPMVKGGIPWIGHMLAFASNPFKFVERAAREAGEVA\n",
      ">WP_087868669.1 cytochrome P450 [Bathymodiolus platifrons methanotrophic gill symbiont] MTAQQTSTSKEPEKMPGALPLIGNMLKFGKNPYEYMSLLRSKLGEIGEFR\n",
      ">WP_045225728.1 cytochrome P450 [Methyloterricola oryzae] MNQTTRKEPPKAPGALPLIGHIHRFGKNPHQFMMDLRQRYGEAAEFKLFH\n",
      ">WP_169604252.1 cytochrome P450 [Methylococcus geothermalis] MKNQVSTTPPVKPGGLPLLGHILEFGKNPHAFMMALRRDFGDVAEFRMFH\n",
      ">WP_218808674.1 cytochrome P450 [Methylococcus sp. Mc7] MNSPHSNTPPVKPGGLPLLGHILEFGRNPHAFMMALRREFGDVAEFRMFH\n",
      ">PZN75960.1 cytochrome P450 [Candidatus Methylumidiphilus alinenensis] MNDNKFKEPPKLSGAMPLVGHILNFGKNPHAFMLRLRQKLGDVAEFKFFH\n",
      ">OUR91304.1 cytochrome P450 [Gammaproteobacteria bacterium 42_54_T18] MSTTTKIIQTTDIPKIKGGLPFLGHMIPFAKNPFIFMKKVSDQAGEVAQF\n",
      ">MBQ0795189.1 cytochrome P450 [Zhongshania sp.] MAATSAVTSPQGQEPPKAKGGLPVLGQMLGFARNPYQFVKKLSDDHGDIV\n",
      ">MBU72061.1 cytochrome P450 [Spongiibacter sp.] MTAKANSEHLGSVEPPRAGGGLPLLGHMIDFVRNPFNFARKIAGNYGEIV\n",
      ">WP_109905014.1 cytochrome P450 [Zavarzinia aquatilis] MSLQATAGRKGGATPPTARGGLPWFGHMLNFARNPYHFVSAVASEHGEIA\n"
     ]
    }
   ],
   "source": [
    "def read_fasta(path):\n",
    "    name, seq = None, []\n",
    "    with open(path) as fp:\n",
    "        for line in fp:\n",
    "            line = line.rstrip()\n",
    "            if line.startswith(\">\"):\n",
    "                if name: yield (name, ''.join(seq))\n",
    "                name, seq = line, []\n",
    "            else:\n",
    "                seq.append(line)\n",
    "        if name: yield (name, ''.join(seq))\n",
    "\n",
    "reader = read_fasta('sequences.fasta')\n",
    "print(type(reader))\n",
    "for name, seq in reader:\n",
    "    print(name, seq[:50])"
   ]
  },
  {
   "cell_type": "raw",
   "metadata": {},
   "source": [
    "2. Напишите класс, производящий чтение последовательностей с небольшими изменениями. (15 баллов)\n",
    "Класс должен иметь конструктор хотя бы с одним аргументом - путь к фаста файлу\n",
    "Объект данного класса должен поддерживать итерацию по нему. Не по атрибутам, а именно по самому объекту.\n",
    "В процессе итерации класс бесконечно перебирает последовательности в файле. Если файл закончился, то итерация продолжается с его начала.\n",
    "При возвращении каждой очередной последовательности класс немного изменяет её с заданной вероятностью (способ задачи вероятности придумайте сами). Можно менять часть аминокислот, делать делеции, вставки и т.д.. Функционал для изменения последовательностей выделите в отдельный(е) метод(ы).\n",
    "Наследоваться запрещается\n"
   ]
  },
  {
   "cell_type": "code",
   "execution_count": 2,
   "metadata": {},
   "outputs": [],
   "source": [
    "import random"
   ]
  },
  {
   "cell_type": "code",
   "execution_count": 33,
   "metadata": {},
   "outputs": [],
   "source": [
    "class Mutating_Class:\n",
    "    aminoacids = ('A', 'C', 'D', 'E', 'F', 'G', 'H', 'I', 'K', 'L', 'M', 'N', 'P', 'Q', \n",
    "                  'R', 'S', 'T', 'V', 'W', 'Y')\n",
    "    def __init__(self, path):\n",
    "        self.path = path\n",
    "        self.__generator = read_fasta(path)\n",
    "        self.seq = []\n",
    "        self.mutation_probability = random.uniform(0, 1)\n",
    "        \n",
    "    def __iter__(self):\n",
    "        return self\n",
    "    \n",
    "    def deletion(self, seq):\n",
    "        if random.random() < self.mutation_probability:\n",
    "            where_to_delete = random.randrange(len(seq)-5)\n",
    "            seq = seq[:where_to_delete] + seq[where_to_delete + random.randint(1, 5)]\n",
    "        return seq\n",
    "    \n",
    "    def substitution(self, seq):\n",
    "        if random.random() < self.mutation_probability:\n",
    "            where_to_substitute = random.randrange(len(seq))\n",
    "            seq = seq[:where_to_substitute]+ str(random.choice([self.aminoacids])) + seq[where_to_substitute+1:]\n",
    "        return seq\n",
    "    \n",
    "    def mutation(self, seq):\n",
    "        mutate = random.choice([self.substitution, self.deletion])\n",
    "        seq = mutate(seq)\n",
    "        return seq\n",
    "    def __next__(self):\n",
    "        try:\n",
    "            id_, seq = next(self.__generator)\n",
    "        except StopIteration:\n",
    "            self.__generator = read_fasta(self.path)\n",
    "            id_, seq = next(self.__generator)\n",
    "        return id_, self.mutation(seq)\n",
    "        "
   ]
  },
  {
   "cell_type": "raw",
   "metadata": {},
   "source": [
    "3. Напишите генератор iter_append(iterable, item), который \"добавляет\" элемент item в \"конец\" iterable. (5 доп баллов)"
   ]
  },
  {
   "cell_type": "code",
   "execution_count": null,
   "metadata": {},
   "outputs": [],
   "source": [
    "def iter_append(iterable, item):\n",
    "    yield from iterable\n",
    "    yield item"
   ]
  },
  {
   "cell_type": "raw",
   "metadata": {},
   "source": [
    "4. Сделайте функцию, которая \"распаковывает\" вложенные списки (5 доп баллов)"
   ]
  },
  {
   "cell_type": "code",
   "execution_count": 39,
   "metadata": {},
   "outputs": [],
   "source": [
    "def generator(lis):\n",
    "    for i in lis:\n",
    "        if isinstance(i, list):\n",
    "            yield from generator(i)\n",
    "        else:\n",
    "            yield i\n",
    "\n",
    "\n",
    "def nested_list_unpacker(lis):\n",
    "    out = []\n",
    "    for j in generator(lis):\n",
    "        out.append(j)\n",
    "    return out"
   ]
  }
 ],
 "metadata": {
  "kernelspec": {
   "display_name": "Python 3",
   "language": "python",
   "name": "python3"
  },
  "language_info": {
   "codemirror_mode": {
    "name": "ipython",
    "version": 3
   },
   "file_extension": ".py",
   "mimetype": "text/x-python",
   "name": "python",
   "nbconvert_exporter": "python",
   "pygments_lexer": "ipython3",
   "version": "3.8.3"
  }
 },
 "nbformat": 4,
 "nbformat_minor": 4
}
