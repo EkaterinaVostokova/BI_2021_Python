{
 "cells": [
  {
   "cell_type": "code",
   "execution_count": 1,
   "metadata": {},
   "outputs": [],
   "source": [
    "import pandas as pd\n",
    "import csv, sqlite3"
   ]
  },
  {
   "cell_type": "code",
   "execution_count": 2,
   "metadata": {},
   "outputs": [],
   "source": [
    "connection = sqlite3.connect('genetics_data_new.db')\n",
    "# creating new database or connecting to it"
   ]
  },
  {
   "cell_type": "raw",
   "metadata": {},
   "source": [
    "Opening both CSV files, selecting data"
   ]
  },
  {
   "cell_type": "code",
   "execution_count": 31,
   "metadata": {},
   "outputs": [],
   "source": [
    "with open('genstudio.csv','r') as f:\n",
    "    file = csv.DictReader(f)\n",
    "    to_db = [(i['SNP Name'], i['SNP Index'], i[\"SNP Aux\"], i[\"Sample ID\"], i[\"SNP\"], i[\"Allele1 - Top\"], i[\"Allele2 - Top\"], i[\"Allele1 - Forward\"], i[\"Allele2 - Forward\"], i[\"Allele1 - AB\"], i[\"Allele2 - AB\"], i[\"Chr\"], i[\"Position\"], i[\"GC Score\"], i[\"GT Score\"], i[\"Theta\"], i[\"R\"], i[\"B Allele Freq\"], i[\"Log R Ratio\"]) for i in file]"
   ]
  },
  {
   "cell_type": "code",
   "execution_count": 44,
   "metadata": {},
   "outputs": [],
   "source": [
    "with open('metadata.csv','r') as f1:\n",
    "    file1 = csv.DictReader(f1)\n",
    "    to_db1 = [(j[\"dna_chip_id\"], j[\"breed\"], j[\"sex\"]) for j in file1]"
   ]
  },
  {
   "cell_type": "markdown",
   "metadata": {},
   "source": [
    "Creating two tables - one for genstudio file, another for metadata"
   ]
  },
  {
   "cell_type": "code",
   "execution_count": 40,
   "metadata": {},
   "outputs": [
    {
     "data": {
      "text/plain": [
       "<sqlite3.Cursor at 0x148d29daf10>"
      ]
     },
     "execution_count": 40,
     "metadata": {},
     "output_type": "execute_result"
    }
   ],
   "source": [
    "query_genetics = '''CREATE TABLE genes_4(\n",
    "                            gen_id INTEGER PRIMARY KEY,\n",
    "                            SNP_name TEXT,\n",
    "                            SNP_index INTEGER,\n",
    "                            SNP_Aux INTEGER,\n",
    "                            Sample_ID TEXT,\n",
    "                            SNP TEXT,\n",
    "                            Allele1_Top TEXT,\n",
    "                            Allele2_Top TEXT,\n",
    "                            Allele1_Forward TEXT,\n",
    "                            Allele2_Forward TEXT,\n",
    "                            Allele1_AB TEXT,\n",
    "                            Allele2_AB TEXT,\n",
    "                            Chr TEXT,\n",
    "                            Position TEXT,\n",
    "                            GC_Score REAL,\n",
    "                            GT_Score REAL,\n",
    "                            Theta REAL,\n",
    "                            R REAL,\n",
    "                            B_Allele_Freq REAL,\n",
    "                            Log_R_Ratio REAL         \n",
    "                            )'''"
   ]
  },
  {
   "cell_type": "code",
   "execution_count": null,
   "metadata": {},
   "outputs": [],
   "source": [
    "connection.execute(query_genetics)"
   ]
  },
  {
   "cell_type": "code",
   "execution_count": null,
   "metadata": {},
   "outputs": [],
   "source": [
    "query_meta = '''CREATE TABLE meta(\n",
    "                            gen_id INTEGER PRIMARY KEY,\n",
    "                            dna_chip_id TEXT,\n",
    "                            breed TEXT,\n",
    "                            sex TEXT)'''"
   ]
  },
  {
   "cell_type": "code",
   "execution_count": null,
   "metadata": {},
   "outputs": [],
   "source": [
    "connection.execute(query_meta)"
   ]
  },
  {
   "cell_type": "markdown",
   "metadata": {},
   "source": [
    "Inserting data into the tables"
   ]
  },
  {
   "cell_type": "code",
   "execution_count": 39,
   "metadata": {},
   "outputs": [],
   "source": [
    "connection.executemany(\"INSERT INTO genes_4 ('SNP_Name', 'SNP_Index', 'SNP_Aux', 'Sample_ID', 'SNP', 'Allele1_Top', 'Allele2_Top', 'Allele1_Forward','Allele2_Forward','Allele1_AB','Allele2_AB','Chr', 'Position', 'GC_Score','GT_Score', 'Theta','R','B_Allele_Freq','Log_R_Ratio') VALUES (?, ?, ?, ?, ?, ?, ?, ?, ?, ?, ?, ?, ?, ?, ?, ?, ?, ?, ?);\", to_db)"
   ]
  },
  {
   "cell_type": "code",
   "execution_count": 41,
   "metadata": {},
   "outputs": [],
   "source": [
    "connection.commit()"
   ]
  },
  {
   "cell_type": "code",
   "execution_count": 32,
   "metadata": {},
   "outputs": [],
   "source": [
    "connection.executemany(\"INSERT INTO meta ('dna_chip_id', 'breed', 'sex') VALUES (?, ?, ?);\", to_db1)"
   ]
  },
  {
   "cell_type": "code",
   "execution_count": 35,
   "metadata": {},
   "outputs": [
    {
     "data": {
      "text/plain": [
       "<sqlite3.Cursor at 0x148d29da9d0>"
      ]
     },
     "execution_count": 35,
     "metadata": {},
     "output_type": "execute_result"
    }
   ],
   "source": [
    "connection.commit()"
   ]
  },
  {
   "cell_type": "markdown",
   "metadata": {},
   "source": [
    "Joining data on dna chip id and presenting SNP name and Chromosome number"
   ]
  },
  {
   "cell_type": "code",
   "execution_count": 38,
   "metadata": {},
   "outputs": [],
   "source": [
    "select_query = '''SELECT SNP_name, Chr FROM genes_4\n",
    "                JOIN meta ON genes_4.Sample_ID = meta.dna_chip_id'''\n",
    "\n",
    "result = connection.execute(select_query).fetchall()"
   ]
  },
  {
   "cell_type": "code",
   "execution_count": null,
   "metadata": {},
   "outputs": [],
   "source": [
    "connection.close()"
   ]
  }
 ],
 "metadata": {
  "kernelspec": {
   "display_name": "Python 3",
   "language": "python",
   "name": "python3"
  },
  "language_info": {
   "codemirror_mode": {
    "name": "ipython",
    "version": 3
   },
   "file_extension": ".py",
   "mimetype": "text/x-python",
   "name": "python",
   "nbconvert_exporter": "python",
   "pygments_lexer": "ipython3",
   "version": "3.8.3"
  }
 },
 "nbformat": 4,
 "nbformat_minor": 4
}
