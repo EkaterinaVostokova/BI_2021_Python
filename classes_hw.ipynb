{
 "cells": [
  {
   "cell_type": "raw",
   "metadata": {},
   "source": [
    "1. Сделайте небольшой класс, описывающий какую-то сущность на ваш выбор (организм/тип данных/что-то ещё). В классе должен быть конструктор и пара методов"
   ]
  },
  {
   "cell_type": "code",
   "execution_count": 140,
   "metadata": {},
   "outputs": [],
   "source": [
    "from Bio.Seq import Seq\n",
    "import os.path\n",
    "import Bio\n",
    "from Bio import SeqIO\n",
    "from Bio.Seq import Seq\n",
    "import matplotlib.pyplot as plt\n",
    "import numpy as np\n",
    "from Bio.SeqUtils import GC\n",
    "from matplotlib.pyplot import figure\n",
    "import threading\n",
    "from threading import Thread"
   ]
  },
  {
   "cell_type": "code",
   "execution_count": 2,
   "metadata": {},
   "outputs": [],
   "source": [
    "# age in months\n",
    "class Mouse:\n",
    "    def __init__ (self, color, weight, age):\n",
    "        self.color = color\n",
    "        self.weight = weight\n",
    "        self.age = age\n",
    "    def grow(self):\n",
    "        self.weight += 1\n",
    "    def one_more_month(self):\n",
    "        self.age += 1\n",
    "    def reverse_colors(self):\n",
    "        if self.color == \"white\":\n",
    "            self.color = \"black\"\n",
    "        elif self.color == \"black\":\n",
    "            self.color = \"white\""
   ]
  },
  {
   "cell_type": "raw",
   "metadata": {},
   "source": [
    "2. Напишите класс, описывающий РНК, у него должны быть:\n",
    "Конструктор - принимает последовательность РНК и создаёт объект с ней\n",
    "Метод трансляции - возвращает строку, соответствующую белку из этой РНК по стандартному коду\n",
    "Метод обратной транскрипции - возвращает строку, соответствующую ДНК из этой РНК\n",
    "Подумайте, какие атрибуты должны быть заданы для объекта и класса\n"
   ]
  },
  {
   "cell_type": "code",
   "execution_count": 34,
   "metadata": {},
   "outputs": [
    {
     "name": "stdout",
     "output_type": "stream",
     "text": [
      "Auggca\n"
     ]
    }
   ],
   "source": [
    "string = str(input())\n",
    "class RNA:\n",
    "    def __init__(self, input_seq=string):\n",
    "        self.seq = Seq(input_seq.upper())\n",
    "        self.length = len(input_seq)\n",
    "    def translation(self):\n",
    "        if self.length % 3 == 0:\n",
    "            return self.seq.translate()\n",
    "        else:\n",
    "            return \"Partial codon\"\n",
    "    def reverse_transcription(self):        \n",
    "        return str(self.seq.back_transcribe())"
   ]
  },
  {
   "cell_type": "raw",
   "metadata": {},
   "source": [
    "3. Напишите класс, унаследовавшись от сэтов, который будет содержать в себе только положительные числа при создании и не будет добавлять неположительные элементы (подсказка - методы конструктора и add)"
   ]
  },
  {
   "cell_type": "code",
   "execution_count": 23,
   "metadata": {},
   "outputs": [],
   "source": [
    "class Sort_positives(set):    \n",
    "    def __init__(self, element):\n",
    "        self.positive = {int(i) for i in element if i > 0}\n",
    "    def add(self, number):\n",
    "        if number > 0:\n",
    "            self.positive.add(number)\n",
    "        else:\n",
    "            return \"Not a positive number\""
   ]
  },
  {
   "cell_type": "raw",
   "metadata": {},
   "source": [
    "4. Создайте класс для сбора статистик по фастам.\n",
    "Входные параметры:\n",
    "Путь к фаста файлу\n",
    "Методы:\n",
    "Подсчёт числа последовательностей в фаста файле\n",
    "Построение гистограммы длин последовательностей\n",
    "Подсчёт GC состава\n",
    "Построение гистограммы частоты 4-меров (по оси x каждый из возможных 4-меров, а по y - их частота)\n",
    "Переопределение метода для вывода информации при принте (достаточно текста с указанием путя к файлу)\n",
    "Выполнение всех реализованных методов по подсчёту метрик\n",
    "Можно придумать дополнительные метрики и реализовать их (по 1 баллу за каждую)\n"
   ]
  },
  {
   "cell_type": "code",
   "execution_count": 225,
   "metadata": {},
   "outputs": [],
   "source": [
    "class Statistics_Fasta:\n",
    "    def __init__(self, path):\n",
    "        self.path = path\n",
    "        with open(self.path):\n",
    "            self.sequences = list(SeqIO.parse(self.path, \"fasta\"))\n",
    "    \n",
    "    # Подсчёт числа последовательностей в фаста файле\n",
    "    def sequences_number(self):\n",
    "        return len(self.sequences)\n",
    "    \n",
    "    # Построение гистограммы длин последовательностей\n",
    "    def sequences_length_distribution(self):\n",
    "        sequences_lengths = np.array([len(i.seq) for i in self.sequences])\n",
    "        figure(figsize=(30, 15))\n",
    "        names, counts = np.unique(sequences_lengths, return_counts=True)\n",
    "        plt.bar(range(len(names)), counts)\n",
    "        plt.xticks(range(len(names)), names)\n",
    "        plt.title(\"Sequence length distribution\")           \n",
    "        plt.show()\n",
    "    \n",
    "    # Подсчёт GC состава\n",
    "    def count_GC(self):\n",
    "        gcs = np.array([GC(j.seq) for j in self.sequences])\n",
    "        return gcs.mean()\n",
    "    \n",
    "    # Построение гистограммы GC состава\n",
    "    def sequences_GC_distribution(self):\n",
    "        gcs = np.array([GC(j.seq) for j in self.sequences])\n",
    "        figure(figsize=(30, 15))\n",
    "        names, counts = np.unique(gcs, return_counts=True)\n",
    "        plt.bar(range(len(names)), counts)\n",
    "        plt.xticks(range(len(names)), names)\n",
    "        plt.title(\"GC content distribution\")\n",
    "        plt.show()\n",
    "    \n",
    "    # Построение гистограммы частоты 4-меров (по оси x каждый из возможных 4-меров, а по y - их частота)\n",
    "    def counts_4_mers(self):\n",
    "        possible_4_mers = dict()\n",
    "        k = 4\n",
    "        sequences = [s.seq for s in self.sequences]\n",
    "        for seq in sequences:\n",
    "            for i in range(len(seq) - k + 1):\n",
    "                kmr = seq[i:i + k]\n",
    "                if kmr in possible_4_mers:\n",
    "                    possible_4_mers[kmr] += 1\n",
    "                else:\n",
    "                    possible_4_mers[kmr] = 1\n",
    "        new = {k: v for k, v in sorted(possible_4_mers.items(), key=lambda x: x[1], reverse=True)}\n",
    "        y = list(new.values())\n",
    "        names = list(new.keys())\n",
    "        figure(figsize=(40, 10))\n",
    "        plt.bar(range(len(y)), y)\n",
    "        plt.xticks(range(len(names)), names, rotation='vertical')\n",
    "        plt.title(\"Distribution of 4-mers counts\")\n",
    "        plt.show()\n",
    "        \n",
    "    # Переопределение метода для вывода информации при принте (достаточно текста с указанием путя к файлу)\n",
    "    def __repr__(self):\n",
    "        return self.path\n",
    "        \n",
    "    # Выполнение всех реализованных методов по подсчёту метрик\n",
    "    def runall(self):\n",
    "        if __name__ == '__main__':\n",
    "            Thread(target = self.sequences_number).start()\n",
    "            Thread(target = self.sequences_length_distribution).start()\n",
    "            Thread(target = self.count_GC).start()\n",
    "            Thread(target = self.counts_4_mers).start()\n",
    "            Thread(target = self.sequences_GC_distribution).start()"
   ]
  }
 ],
 "metadata": {
  "kernelspec": {
   "display_name": "Python 3",
   "language": "python",
   "name": "python3"
  },
  "language_info": {
   "codemirror_mode": {
    "name": "ipython",
    "version": 3
   },
   "file_extension": ".py",
   "mimetype": "text/x-python",
   "name": "python",
   "nbconvert_exporter": "python",
   "pygments_lexer": "ipython3",
   "version": "3.8.3"
  }
 },
 "nbformat": 4,
 "nbformat_minor": 4
}
