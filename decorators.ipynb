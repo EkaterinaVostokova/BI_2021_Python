{
 "cells": [
  {
   "cell_type": "code",
   "execution_count": 12,
   "metadata": {},
   "outputs": [],
   "source": [
    "import time\n",
    "import random   \n",
    "import requests"
   ]
  },
  {
   "cell_type": "raw",
   "metadata": {},
   "source": [
    "1. Напишите простой декоратор, подменивающий возвращаемое значение декорируемой функции на время её выполнения (Example_1). Для измерения времени воспользуйтесь модулем time. (3 балла)"
   ]
  },
  {
   "cell_type": "code",
   "execution_count": 2,
   "metadata": {},
   "outputs": [
    {
     "name": "stdout",
     "output_type": "stream",
     "text": [
      "21.03883647918701\n"
     ]
    }
   ],
   "source": [
    "def measure_time(func):\n",
    "    def f(*args, **kwargs):\n",
    "        start = time.time()\n",
    "        func(*args, **kwargs)\n",
    "        return time.time() - start\n",
    "    return f\n",
    "\n",
    "@measure_time\n",
    "def some_function(a, b, c, d, e=0, f=0, g=\"3\"):\n",
    "    time.sleep(a)\n",
    "    time.sleep(b)\n",
    "    time.sleep(c)\n",
    "    time.sleep(d)\n",
    "    time.sleep(e)\n",
    "    time.sleep(f)\n",
    "    return g\n",
    "\n",
    "print(some_function(1, 2, 3, 4, e=5, f=6, g=\"99999\"))"
   ]
  },
  {
   "cell_type": "raw",
   "metadata": {},
   "source": [
    "2. Напишите декоратор, позволяющий логировать запуски функций, распечатывая входные данные и тип возвращаемых значений (Example_2). Для получения имени класса в виде строки можно воспользоваться атрибутом __name__. (7 баллов)"
   ]
  },
  {
   "cell_type": "code",
   "execution_count": 3,
   "metadata": {},
   "outputs": [
    {
     "name": "stdout",
     "output_type": "stream",
     "text": [
      "Function func1 is called with no arguments\n",
      "Function func1 returns output of type set\n",
      "set()\n",
      "\n",
      "Function func2 is called with positional arguments: (1, 2, 3)\n",
      "Function func2 returns output of type float\n",
      "1.0\n",
      "\n",
      "Function func3 is called with positional arguments: (1, 2) and keyword arguments: c=3, d=2\n",
      "Function func3 returns output of type list\n",
      "[7, 7]\n",
      "\n",
      "Function func4 is called with keyword arguments:  a=None, b=-inf\n",
      "Function func4 returns output of type dict\n",
      "{None: -inf}\n",
      "\n"
     ]
    }
   ],
   "source": [
    "def function_logging(func):\n",
    "    def func_log(*args, **kwargs):\n",
    "        if args and kwargs:\n",
    "            print(f\"Function {func.__name__} is called with positional arguments: {args} and keyword arguments:\",\n",
    "                  \", \".join(f'{key}={value}' for key, value in kwargs.items()))\n",
    "        elif args:\n",
    "            print(f\"Function {func.__name__} is called with positional arguments: {args}\")\n",
    "        elif kwargs:\n",
    "            print(f\"Function {func.__name__} is called with keyword arguments: \",\n",
    "                  \", \".join(f'{key}={value}' for key, value in kwargs.items()))\n",
    "        else:\n",
    "            print(f\"Function {func.__name__} is called with no arguments\")\n",
    "        print(f\"Function {func.__name__} returns output of type {type(func(*args, **kwargs)).__name__}\")\n",
    "        return func(*args, **kwargs)\n",
    "    return func_log\n",
    "\n",
    "@function_logging\n",
    "def func1():\n",
    "    return set()\n",
    "\n",
    "@function_logging\n",
    "def func2(a, b, c):\n",
    "    return (a + b) / c\n",
    "\n",
    "@function_logging\n",
    "def func3(a, b, c, d=4):\n",
    "    return [a + b * c] * d\n",
    "\n",
    "@function_logging\n",
    "def func4(a=None, b=None):\n",
    "    return {a: b}\n",
    "\n",
    "print(func1(), end=\"\\n\\n\")\n",
    "print(func2(1, 2, 3), end=\"\\n\\n\")\n",
    "print(func3(1, 2, c=3, d=2), end=\"\\n\\n\")\n",
    "print(func4(a=None, b=float(\"-inf\")), end=\"\\n\\n\")"
   ]
  },
  {
   "cell_type": "raw",
   "metadata": {},
   "source": [
    "3. Сделайте декоратор - русскую рулетку, который сделает так, чтобы декорируемая функция с заданной вероятностью заменяла возвращаемое значение на переданное декоратору (Example_3). (7 баллов)"
   ]
  },
  {
   "cell_type": "code",
   "execution_count": 5,
   "metadata": {},
   "outputs": [
    {
     "name": "stdout",
     "output_type": "stream",
     "text": [
      "<Response [200]>\n",
      "<Response [200]>\n",
      "Ooops, your output has been stolen!\n",
      "<Response [200]>\n",
      "<Response [200]>\n",
      "Ooops, your output has been stolen!\n",
      "<Response [200]>\n",
      "Ooops, your output has been stolen!\n",
      "<Response [200]>\n",
      "<Response [200]>\n"
     ]
    }
   ],
   "source": [
    "def russian_roulette_decorator(probability, return_value=\"Ooops, your output has been stolen!\"):\n",
    "    def decorator(func):\n",
    "        def f(*args, **kwargs):\n",
    "            if random.random() < probability:\n",
    "                return return_value\n",
    "            else:\n",
    "                return func(*args, **kwargs)\n",
    "        return f\n",
    "    return decorator\n",
    "\n",
    "@russian_roulette_decorator(probability=0.2, return_value=\"Ooops, your output has been stolen!\")\n",
    "def make_request(url):\n",
    "    return requests.get(url)\n",
    "for _ in range(10):\n",
    "    print(make_request(\"https://google.com\"))   "
   ]
  }
 ],
 "metadata": {
  "kernelspec": {
   "display_name": "Python 3",
   "language": "python",
   "name": "python3"
  },
  "language_info": {
   "codemirror_mode": {
    "name": "ipython",
    "version": 3
   },
   "file_extension": ".py",
   "mimetype": "text/x-python",
   "name": "python",
   "nbconvert_exporter": "python",
   "pygments_lexer": "ipython3",
   "version": "3.8.3"
  }
 },
 "nbformat": 4,
 "nbformat_minor": 4
}
